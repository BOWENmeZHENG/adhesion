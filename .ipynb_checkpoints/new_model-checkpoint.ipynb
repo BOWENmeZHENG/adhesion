{
 "cells": [
  {
   "cell_type": "code",
   "execution_count": 1,
   "metadata": {},
   "outputs": [],
   "source": [
    "import pandas as pd\n",
    "import numpy as np\n",
    "import matplotlib.pyplot as plt\n",
    "import torch\n",
    "import torch.nn as nn\n",
    "import torch.nn.functional as F\n",
    "from sklearn.model_selection import train_test_split\n",
    "from sklearn.metrics import r2_score\n",
    "from sklearn import preprocessing\n",
    "\n",
    "filename = 'data.csv'\n",
    "df = pd.read_csv(filename)\n",
    "df.drop(['Unnamed: 0', 'P_prime', 'P_star', 'WIDTH_sub', 'HEIGHT_sub', 'WIDTH_device', 'mem_layer'], axis=1, inplace=True)\n",
    "df_var = df[['WIDTH_mem', 'THICKNESS_mem', 'HEIGHT_chamber', 'HEIGHT_device', 'Stalk_angle']]\n",
    "df_perf = df[['Negative Pressure Adh Force', 'Pos Pressure Adh Force', 'Neutral Pressure Adh Force', 'switching_ratio']]"
   ]
  },
  {
   "cell_type": "markdown",
   "metadata": {},
   "source": [
    "### Normalize data"
   ]
  },
  {
   "cell_type": "code",
   "execution_count": 2,
   "metadata": {},
   "outputs": [
    {
     "data": {
      "text/html": [
       "<div>\n",
       "<style scoped>\n",
       "    .dataframe tbody tr th:only-of-type {\n",
       "        vertical-align: middle;\n",
       "    }\n",
       "\n",
       "    .dataframe tbody tr th {\n",
       "        vertical-align: top;\n",
       "    }\n",
       "\n",
       "    .dataframe thead th {\n",
       "        text-align: right;\n",
       "    }\n",
       "</style>\n",
       "<table border=\"1\" class=\"dataframe\">\n",
       "  <thead>\n",
       "    <tr style=\"text-align: right;\">\n",
       "      <th></th>\n",
       "      <th>Negative Pressure Adh Force</th>\n",
       "      <th>Pos Pressure Adh Force</th>\n",
       "      <th>Neutral Pressure Adh Force</th>\n",
       "      <th>switching_ratio</th>\n",
       "    </tr>\n",
       "  </thead>\n",
       "  <tbody>\n",
       "    <tr>\n",
       "      <th>count</th>\n",
       "      <td>244.000000</td>\n",
       "      <td>244.000000</td>\n",
       "      <td>244.000000</td>\n",
       "      <td>244.000000</td>\n",
       "    </tr>\n",
       "    <tr>\n",
       "      <th>mean</th>\n",
       "      <td>4.421100</td>\n",
       "      <td>1.713310</td>\n",
       "      <td>4.049022</td>\n",
       "      <td>3.135535</td>\n",
       "    </tr>\n",
       "    <tr>\n",
       "      <th>std</th>\n",
       "      <td>0.785363</td>\n",
       "      <td>0.639083</td>\n",
       "      <td>0.625858</td>\n",
       "      <td>2.258921</td>\n",
       "    </tr>\n",
       "    <tr>\n",
       "      <th>min</th>\n",
       "      <td>0.303477</td>\n",
       "      <td>0.167428</td>\n",
       "      <td>2.381371</td>\n",
       "      <td>0.204811</td>\n",
       "    </tr>\n",
       "    <tr>\n",
       "      <th>25%</th>\n",
       "      <td>4.212473</td>\n",
       "      <td>1.275356</td>\n",
       "      <td>3.600968</td>\n",
       "      <td>2.140154</td>\n",
       "    </tr>\n",
       "    <tr>\n",
       "      <th>50%</th>\n",
       "      <td>4.648517</td>\n",
       "      <td>1.738681</td>\n",
       "      <td>4.080984</td>\n",
       "      <td>2.537297</td>\n",
       "    </tr>\n",
       "    <tr>\n",
       "      <th>75%</th>\n",
       "      <td>4.864324</td>\n",
       "      <td>2.171699</td>\n",
       "      <td>4.565125</td>\n",
       "      <td>3.268377</td>\n",
       "    </tr>\n",
       "    <tr>\n",
       "      <th>max</th>\n",
       "      <td>5.271151</td>\n",
       "      <td>4.769162</td>\n",
       "      <td>5.160038</td>\n",
       "      <td>22.692651</td>\n",
       "    </tr>\n",
       "  </tbody>\n",
       "</table>\n",
       "</div>"
      ],
      "text/plain": [
       "       Negative Pressure Adh Force  Pos Pressure Adh Force  \\\n",
       "count                   244.000000              244.000000   \n",
       "mean                      4.421100                1.713310   \n",
       "std                       0.785363                0.639083   \n",
       "min                       0.303477                0.167428   \n",
       "25%                       4.212473                1.275356   \n",
       "50%                       4.648517                1.738681   \n",
       "75%                       4.864324                2.171699   \n",
       "max                       5.271151                4.769162   \n",
       "\n",
       "       Neutral Pressure Adh Force  switching_ratio  \n",
       "count                  244.000000       244.000000  \n",
       "mean                     4.049022         3.135535  \n",
       "std                      0.625858         2.258921  \n",
       "min                      2.381371         0.204811  \n",
       "25%                      3.600968         2.140154  \n",
       "50%                      4.080984         2.537297  \n",
       "75%                      4.565125         3.268377  \n",
       "max                      5.160038        22.692651  "
      ]
     },
     "execution_count": 2,
     "metadata": {},
     "output_type": "execute_result"
    }
   ],
   "source": [
    "df_perf.describe()"
   ]
  },
  {
   "cell_type": "code",
   "execution_count": 3,
   "metadata": {},
   "outputs": [
    {
     "data": {
      "text/html": [
       "<div>\n",
       "<style scoped>\n",
       "    .dataframe tbody tr th:only-of-type {\n",
       "        vertical-align: middle;\n",
       "    }\n",
       "\n",
       "    .dataframe tbody tr th {\n",
       "        vertical-align: top;\n",
       "    }\n",
       "\n",
       "    .dataframe thead th {\n",
       "        text-align: right;\n",
       "    }\n",
       "</style>\n",
       "<table border=\"1\" class=\"dataframe\">\n",
       "  <thead>\n",
       "    <tr style=\"text-align: right;\">\n",
       "      <th></th>\n",
       "      <th>Negative Pressure Adh Force</th>\n",
       "      <th>Pos Pressure Adh Force</th>\n",
       "      <th>Neutral Pressure Adh Force</th>\n",
       "      <th>switching_ratio</th>\n",
       "    </tr>\n",
       "  </thead>\n",
       "  <tbody>\n",
       "    <tr>\n",
       "      <th>count</th>\n",
       "      <td>2.440000e+02</td>\n",
       "      <td>2.440000e+02</td>\n",
       "      <td>2.440000e+02</td>\n",
       "      <td>2.440000e+02</td>\n",
       "    </tr>\n",
       "    <tr>\n",
       "      <th>mean</th>\n",
       "      <td>-3.290856e-16</td>\n",
       "      <td>1.173924e-16</td>\n",
       "      <td>1.192125e-16</td>\n",
       "      <td>-1.274026e-16</td>\n",
       "    </tr>\n",
       "    <tr>\n",
       "      <th>std</th>\n",
       "      <td>1.002056e+00</td>\n",
       "      <td>1.002056e+00</td>\n",
       "      <td>1.002056e+00</td>\n",
       "      <td>1.002056e+00</td>\n",
       "    </tr>\n",
       "    <tr>\n",
       "      <th>min</th>\n",
       "      <td>-5.253733e+00</td>\n",
       "      <td>-2.423876e+00</td>\n",
       "      <td>-2.670062e+00</td>\n",
       "      <td>-1.300066e+00</td>\n",
       "    </tr>\n",
       "    <tr>\n",
       "      <th>25%</th>\n",
       "      <td>-2.661902e-01</td>\n",
       "      <td>-6.866939e-01</td>\n",
       "      <td>-7.173761e-01</td>\n",
       "      <td>-4.415502e-01</td>\n",
       "    </tr>\n",
       "    <tr>\n",
       "      <th>50%</th>\n",
       "      <td>2.901642e-01</td>\n",
       "      <td>3.978087e-02</td>\n",
       "      <td>5.117421e-02</td>\n",
       "      <td>-2.653777e-01</td>\n",
       "    </tr>\n",
       "    <tr>\n",
       "      <th>75%</th>\n",
       "      <td>5.655163e-01</td>\n",
       "      <td>7.187348e-01</td>\n",
       "      <td>8.263278e-01</td>\n",
       "      <td>5.892886e-02</td>\n",
       "    </tr>\n",
       "    <tr>\n",
       "      <th>max</th>\n",
       "      <td>1.084592e+00</td>\n",
       "      <td>4.791446e+00</td>\n",
       "      <td>1.778838e+00</td>\n",
       "      <td>8.675520e+00</td>\n",
       "    </tr>\n",
       "  </tbody>\n",
       "</table>\n",
       "</div>"
      ],
      "text/plain": [
       "       Negative Pressure Adh Force  Pos Pressure Adh Force  \\\n",
       "count                 2.440000e+02            2.440000e+02   \n",
       "mean                 -3.290856e-16            1.173924e-16   \n",
       "std                   1.002056e+00            1.002056e+00   \n",
       "min                  -5.253733e+00           -2.423876e+00   \n",
       "25%                  -2.661902e-01           -6.866939e-01   \n",
       "50%                   2.901642e-01            3.978087e-02   \n",
       "75%                   5.655163e-01            7.187348e-01   \n",
       "max                   1.084592e+00            4.791446e+00   \n",
       "\n",
       "       Neutral Pressure Adh Force  switching_ratio  \n",
       "count                2.440000e+02     2.440000e+02  \n",
       "mean                 1.192125e-16    -1.274026e-16  \n",
       "std                  1.002056e+00     1.002056e+00  \n",
       "min                 -2.670062e+00    -1.300066e+00  \n",
       "25%                 -7.173761e-01    -4.415502e-01  \n",
       "50%                  5.117421e-02    -2.653777e-01  \n",
       "75%                  8.263278e-01     5.892886e-02  \n",
       "max                  1.778838e+00     8.675520e+00  "
      ]
     },
     "execution_count": 3,
     "metadata": {},
     "output_type": "execute_result"
    }
   ],
   "source": [
    "x = df_var.values\n",
    "standard_scaler_x = preprocessing.StandardScaler()\n",
    "x_scaled = standard_scaler_x.fit_transform(x)\n",
    "df_var_n = pd.DataFrame(x_scaled)\n",
    "df_var_n.columns = ['WIDTH_mem', 'THICKNESS_mem', 'HEIGHT_chamber', 'HEIGHT_device', 'Stalk_angle']\n",
    "\n",
    "\n",
    "y = df_perf.values\n",
    "standard_scaler_y = preprocessing.StandardScaler()\n",
    "y_scaled = standard_scaler_y.fit_transform(y)\n",
    "df_perf_n = pd.DataFrame(y_scaled)\n",
    "df_perf_n.columns = ['Negative Pressure Adh Force', 'Pos Pressure Adh Force', 'Neutral Pressure Adh Force', 'switching_ratio']\n",
    "df_perf_n.describe()"
   ]
  },
  {
   "cell_type": "markdown",
   "metadata": {},
   "source": [
    "### Variable(s) to drop"
   ]
  },
  {
   "cell_type": "code",
   "execution_count": 4,
   "metadata": {},
   "outputs": [],
   "source": [
    "# var_drop = ['HEIGHT_device', 'Stalk_angle']\n",
    "# df_var_n = df_var_n.drop(var_drop, axis=1)"
   ]
  },
  {
   "cell_type": "code",
   "execution_count": 5,
   "metadata": {},
   "outputs": [],
   "source": [
    "train_X, test_X, train_y, test_y = train_test_split(df_var_n.values, df_perf_n.values, \n",
    "                                                    test_size=0.1, random_state=23)\n",
    "X_train = torch.FloatTensor(train_X)\n",
    "X_test = torch.FloatTensor(test_X)\n",
    "y_train = torch.FloatTensor(train_y)\n",
    "y_test = torch.FloatTensor(test_y)"
   ]
  },
  {
   "cell_type": "code",
   "execution_count": 6,
   "metadata": {},
   "outputs": [],
   "source": [
    "class Model(nn.Module):\n",
    "    def __init__(self, in_features=5, h1=10, h2=10, out_features=4):\n",
    "        super().__init__()\n",
    "        self.fc1 = nn.Linear(in_features,h1)\n",
    "        self.fc2 = nn.Linear(h1, h2)\n",
    "        self.out = nn.Linear(h2, out_features)\n",
    "        \n",
    "    def forward(self, x):\n",
    "        x = F.relu(self.fc1(x))\n",
    "        x = F.relu(self.fc2(x))\n",
    "        x = self.out(x)\n",
    "        return x\n",
    "    \n",
    "torch.manual_seed(111)\n",
    "model = Model()\n",
    "criterion = nn.MSELoss()\n",
    "\n",
    "# def weighted_mse_loss(y, target, weight):\n",
    "#     return torch.sum(weight * (y - target) ** 2) / y.shape[0]\n",
    "\n",
    "weight = F.normalize(torch.FloatTensor([1., 1., 1., 1]), dim=0)\n",
    "optimizer = torch.optim.Adam(model.parameters(), lr=0.0005)"
   ]
  },
  {
   "cell_type": "code",
   "execution_count": 7,
   "metadata": {},
   "outputs": [
    {
     "name": "stdout",
     "output_type": "stream",
     "text": [
      "epoch:  100  loss: 0.9093025\n",
      "epoch:  200  loss: 0.6957763\n",
      "epoch:  300  loss: 0.4710630\n",
      "epoch:  400  loss: 0.3787442\n",
      "epoch:  500  loss: 0.3363867\n",
      "epoch:  600  loss: 0.3137086\n",
      "epoch:  700  loss: 0.2984479\n",
      "epoch:  800  loss: 0.2865010\n",
      "epoch:  900  loss: 0.2767248\n",
      "epoch: 1000  loss: 0.2690051\n",
      "epoch: 1100  loss: 0.2621181\n",
      "epoch: 1200  loss: 0.2552657\n",
      "epoch: 1300  loss: 0.2484814\n",
      "epoch: 1400  loss: 0.2409853\n",
      "epoch: 1500  loss: 0.2331471\n",
      "epoch: 1600  loss: 0.2220210\n"
     ]
    }
   ],
   "source": [
    "epochs = 1600\n",
    "losses = []\n",
    "\n",
    "for i in range(epochs):\n",
    "    i += 1\n",
    "    y_pred = model(X_train)\n",
    "    loss = criterion(y_pred, y_train)\n",
    "#     loss = weighted_mse_loss(y_pred, y_train, weight)\n",
    "    losses.append(loss)\n",
    "    \n",
    "    if i%100 == 0:\n",
    "        print(f'epoch: {i:4}  loss: {loss.item():6.7f}')\n",
    "\n",
    "    optimizer.zero_grad()\n",
    "    loss.backward()\n",
    "    optimizer.step()"
   ]
  },
  {
   "cell_type": "code",
   "execution_count": 8,
   "metadata": {},
   "outputs": [
    {
     "data": {
      "image/png": "[encoded data removed]",
      "text/plain": [
       "<Figure size 576x432 with 1 Axes>"
      ]
     },
     "metadata": {
      "needs_background": "light"
     },
     "output_type": "display_data"
    }
   ],
   "source": [
    "plt.figure(figsize=(8, 6))\n",
    "plt.plot(range(epochs), losses)\n",
    "plt.ylabel('Loss', fontsize=16)\n",
    "plt.xlabel('epoch', fontsize=16)\n",
    "plt.xticks(fontsize=14)\n",
    "plt.yticks(fontsize=14)\n",
    "plt.show()"
   ]
  },
  {
   "cell_type": "code",
   "execution_count": 9,
   "metadata": {},
   "outputs": [
    {
     "name": "stdout",
     "output_type": "stream",
     "text": [
      "0.23789704\n"
     ]
    }
   ],
   "source": [
    "with torch.no_grad():\n",
    "    y_val = model(X_test)\n",
    "    loss = criterion(y_val, y_test)\n",
    "print(f'{loss:.8f}')"
   ]
  },
  {
   "cell_type": "code",
   "execution_count": 10,
   "metadata": {},
   "outputs": [],
   "source": [
    "y_val = standard_scaler_y.inverse_transform(y_val)\n",
    "y_test = standard_scaler_y.inverse_transform(y_test)"
   ]
  },
  {
   "cell_type": "code",
   "execution_count": 25,
   "metadata": {
    "scrolled": false
   },
   "outputs": [
    {
     "data": {
      "image/png": "[encoded data removed]",
      "text/plain": [
       "<Figure size 576x432 with 1 Axes>"
      ]
     },
     "metadata": {
      "needs_background": "light"
     },
     "output_type": "display_data"
    },
    {
     "name": "stdout",
     "output_type": "stream",
     "text": [
      "r2_strength: 0.715\n"
     ]
    }
   ],
   "source": [
    "plt.figure(figsize=(8,6))\n",
    "# plt.title('without HEIGHT_device and Stalk_angle', fontsize=16)\n",
    "f_num = 3\n",
    "plt.plot([0, 8], [0, 8], c='red')\n",
    "plt.scatter(y_test[:,f_num], y_val[:,f_num])\n",
    "plt.xlim((0, 7))\n",
    "plt.ylim((0, 7))\n",
    "plt.xlabel('True switching_ratio', fontsize=14)\n",
    "plt.ylabel('Predicted switching_ratio', fontsize=14)\n",
    "plt.xticks(fontsize=12)\n",
    "plt.yticks(fontsize=12)\n",
    "plt.show()\n",
    "# R2 score\n",
    "r2_strength = r2_score(y_test[:,f_num], y_val[:,f_num])\n",
    "print(f'r2_strength: {r2_strength:.3f}')"
   ]
  },
  {
   "cell_type": "code",
   "execution_count": null,
   "metadata": {},
   "outputs": [],
   "source": []
  },
  {
   "cell_type": "markdown",
   "metadata": {},
   "source": [
    "### Variable significance"
   ]
  },
  {
   "cell_type": "code",
   "execution_count": 12,
   "metadata": {},
   "outputs": [],
   "source": [
    "# losses_var = {'baseline': 0.00149192, \n",
    "#               'WIDTH_mem': 0.00275577,\n",
    "#               'THICKNESS_mem': 0.01312068,\n",
    "#               'HEIGHT_chamber': 0.00119060,\n",
    "#               'HEIGHT_device': 0.00207556,\n",
    "#               'Stalk_angle': 0.00120367,\n",
    "#               'WIDTH_mem, THICKNESS_mem': 0.00985959,\n",
    "#               'WIDTH_mem, HEIGHT_chamber': 0.00684595,\n",
    "#               'WIDTH_mem, HEIGHT_device': 0.00423652,\n",
    "#               'WIDTH_mem, Stalk_angle': 0.00506612,\n",
    "#               'THICKNESS_mem, HEIGHT_chamber': 0.01752690,\n",
    "#               'THICKNESS_mem, HEIGHT_device': 0.01769614,\n",
    "#               'THICKNESS_mem, Stalk_angle': 0.00976107,\n",
    "#               'HEIGHT_chamber, HEIGHT_device': 0.00057927,\n",
    "#               'HEIGHT_chamber, Stalk_angle': 0.00115912,\n",
    "#               'HEIGHT_device, Stalk_angle': 0.00019624,\n",
    "#               'HEIGHT_chamber, HEIGHT_device, Stalk_angle': 0.00026928\n",
    "# #               'all but WIDTH_device': 4.13816118\n",
    "#              }"
   ]
  },
  {
   "cell_type": "code",
   "execution_count": 13,
   "metadata": {},
   "outputs": [],
   "source": [
    "# plt.figure(figsize=(9, 12))\n",
    "# plt.barh(list(losses_var.keys())[::-1], list(losses_var.values())[::-1])\n",
    "# plt.title('Variable significance', fontsize=20)\n",
    "# plt.xlabel('Test loss', fontsize=18)\n",
    "# plt.xticks(fontsize=16)\n",
    "# plt.yticks(fontsize=16)\n",
    "# plt.axvline(x=0.00149192, color='red')\n",
    "# plt.show()"
   ]
  },
  {
   "cell_type": "code",
   "execution_count": null,
   "metadata": {},
   "outputs": [],
   "source": []
  }
 ],
 "metadata": {
  "kernelspec": {
   "display_name": "Python 3",
   "language": "python",
   "name": "python3"
  },
  "language_info": {
   "codemirror_mode": {
    "name": "ipython",
    "version": 3
   },
   "file_extension": ".py",
   "mimetype": "text/x-python",
   "name": "python",
   "nbconvert_exporter": "python",
   "pygments_lexer": "ipython3",
   "version": "3.7.4"
  }
 },
 "nbformat": 4,
 "nbformat_minor": 2
}
