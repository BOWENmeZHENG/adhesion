{
 "cells": [
  {
   "cell_type": "code",
   "execution_count": 1,
   "metadata": {},
   "outputs": [],
   "source": [
    "import pandas as pd\n",
    "import numpy as np\n",
    "import matplotlib.pyplot as plt\n",
    "import torch\n",
    "import torch.nn as nn\n",
    "import torch.nn.functional as F\n",
    "from sklearn.model_selection import train_test_split\n",
    "from sklearn.preprocessing import MinMaxScaler"
   ]
  },
  {
   "cell_type": "markdown",
   "metadata": {},
   "source": [
    "### Load data"
   ]
  },
  {
   "cell_type": "code",
   "execution_count": 2,
   "metadata": {},
   "outputs": [],
   "source": [
    "filename = 'data_5kpa_cleaned_01052022.csv'\n",
    "df = pd.read_csv(filename)\n",
    "df.drop(['Unnamed: 0', 'WIDTH_sub', 'HEIGHT_sub', 'mem_layer'], axis=1, inplace=True)\n",
    "df_var = df[['WIDTH_mem', 'THICKNESS_mem', 'WIDTH_device', 'HEIGHT_chamber', 'HEIGHT_device', 'Stalk_angle']]\n",
    "df_perf = df[['strength', 'switching_ratio']]"
   ]
  },
  {
   "cell_type": "code",
   "execution_count": 3,
   "metadata": {},
   "outputs": [
    {
     "data": {
      "text/html": [
       "<div>\n",
       "<style scoped>\n",
       "    .dataframe tbody tr th:only-of-type {\n",
       "        vertical-align: middle;\n",
       "    }\n",
       "\n",
       "    .dataframe tbody tr th {\n",
       "        vertical-align: top;\n",
       "    }\n",
       "\n",
       "    .dataframe thead th {\n",
       "        text-align: right;\n",
       "    }\n",
       "</style>\n",
       "<table border=\"1\" class=\"dataframe\">\n",
       "  <thead>\n",
       "    <tr style=\"text-align: right;\">\n",
       "      <th></th>\n",
       "      <th>WIDTH_mem</th>\n",
       "      <th>THICKNESS_mem</th>\n",
       "      <th>WIDTH_device</th>\n",
       "      <th>HEIGHT_chamber</th>\n",
       "      <th>HEIGHT_device</th>\n",
       "      <th>Stalk_angle</th>\n",
       "    </tr>\n",
       "  </thead>\n",
       "  <tbody>\n",
       "    <tr>\n",
       "      <th>0</th>\n",
       "      <td>3.443420</td>\n",
       "      <td>2.022129</td>\n",
       "      <td>17.121868</td>\n",
       "      <td>9.886087</td>\n",
       "      <td>14.670482</td>\n",
       "      <td>-48.521273</td>\n",
       "    </tr>\n",
       "    <tr>\n",
       "      <th>1</th>\n",
       "      <td>2.255331</td>\n",
       "      <td>1.123090</td>\n",
       "      <td>19.712945</td>\n",
       "      <td>7.968753</td>\n",
       "      <td>13.878118</td>\n",
       "      <td>-28.887618</td>\n",
       "    </tr>\n",
       "    <tr>\n",
       "      <th>2</th>\n",
       "      <td>9.683886</td>\n",
       "      <td>2.879514</td>\n",
       "      <td>15.787672</td>\n",
       "      <td>6.783376</td>\n",
       "      <td>12.544746</td>\n",
       "      <td>29.972634</td>\n",
       "    </tr>\n",
       "    <tr>\n",
       "      <th>3</th>\n",
       "      <td>6.008156</td>\n",
       "      <td>1.296631</td>\n",
       "      <td>19.274046</td>\n",
       "      <td>3.803054</td>\n",
       "      <td>13.982056</td>\n",
       "      <td>-45.285397</td>\n",
       "    </tr>\n",
       "    <tr>\n",
       "      <th>4</th>\n",
       "      <td>7.404020</td>\n",
       "      <td>2.323556</td>\n",
       "      <td>15.113540</td>\n",
       "      <td>9.474165</td>\n",
       "      <td>14.553305</td>\n",
       "      <td>-45.516214</td>\n",
       "    </tr>\n",
       "  </tbody>\n",
       "</table>\n",
       "</div>"
      ],
      "text/plain": [
       "   WIDTH_mem  THICKNESS_mem  WIDTH_device  HEIGHT_chamber  HEIGHT_device  \\\n",
       "0   3.443420       2.022129     17.121868        9.886087      14.670482   \n",
       "1   2.255331       1.123090     19.712945        7.968753      13.878118   \n",
       "2   9.683886       2.879514     15.787672        6.783376      12.544746   \n",
       "3   6.008156       1.296631     19.274046        3.803054      13.982056   \n",
       "4   7.404020       2.323556     15.113540        9.474165      14.553305   \n",
       "\n",
       "   Stalk_angle  \n",
       "0   -48.521273  \n",
       "1   -28.887618  \n",
       "2    29.972634  \n",
       "3   -45.285397  \n",
       "4   -45.516214  "
      ]
     },
     "execution_count": 3,
     "metadata": {},
     "output_type": "execute_result"
    }
   ],
   "source": [
    "df_var.head()"
   ]
  },
  {
   "cell_type": "code",
   "execution_count": 4,
   "metadata": {},
   "outputs": [
    {
     "data": {
      "text/html": [
       "<div>\n",
       "<style scoped>\n",
       "    .dataframe tbody tr th:only-of-type {\n",
       "        vertical-align: middle;\n",
       "    }\n",
       "\n",
       "    .dataframe tbody tr th {\n",
       "        vertical-align: top;\n",
       "    }\n",
       "\n",
       "    .dataframe thead th {\n",
       "        text-align: right;\n",
       "    }\n",
       "</style>\n",
       "<table border=\"1\" class=\"dataframe\">\n",
       "  <thead>\n",
       "    <tr style=\"text-align: right;\">\n",
       "      <th></th>\n",
       "      <th>strength</th>\n",
       "      <th>switching_ratio</th>\n",
       "    </tr>\n",
       "  </thead>\n",
       "  <tbody>\n",
       "    <tr>\n",
       "      <th>0</th>\n",
       "      <td>30.276211</td>\n",
       "      <td>0.956090</td>\n",
       "    </tr>\n",
       "    <tr>\n",
       "      <th>1</th>\n",
       "      <td>40.221500</td>\n",
       "      <td>0.996982</td>\n",
       "    </tr>\n",
       "    <tr>\n",
       "      <th>2</th>\n",
       "      <td>26.674799</td>\n",
       "      <td>0.974735</td>\n",
       "    </tr>\n",
       "    <tr>\n",
       "      <th>3</th>\n",
       "      <td>39.913605</td>\n",
       "      <td>1.014244</td>\n",
       "    </tr>\n",
       "    <tr>\n",
       "      <th>4</th>\n",
       "      <td>23.948786</td>\n",
       "      <td>0.925598</td>\n",
       "    </tr>\n",
       "  </tbody>\n",
       "</table>\n",
       "</div>"
      ],
      "text/plain": [
       "    strength  switching_ratio\n",
       "0  30.276211         0.956090\n",
       "1  40.221500         0.996982\n",
       "2  26.674799         0.974735\n",
       "3  39.913605         1.014244\n",
       "4  23.948786         0.925598"
      ]
     },
     "execution_count": 4,
     "metadata": {},
     "output_type": "execute_result"
    }
   ],
   "source": [
    "df_perf.head()"
   ]
  },
  {
   "cell_type": "markdown",
   "metadata": {},
   "source": [
    "### Neural network ML"
   ]
  },
  {
   "cell_type": "code",
   "execution_count": 5,
   "metadata": {},
   "outputs": [],
   "source": [
    "train_X, test_X, train_y, test_y = train_test_split(df_var.values, df_perf.values, \n",
    "                                                    test_size=0.2, random_state=33)"
   ]
  },
  {
   "cell_type": "code",
   "execution_count": 6,
   "metadata": {},
   "outputs": [],
   "source": [
    "X_train = torch.FloatTensor(train_X)\n",
    "X_test = torch.FloatTensor(test_X)\n",
    "y_train = torch.FloatTensor(train_y)\n",
    "y_test = torch.FloatTensor(test_y)"
   ]
  },
  {
   "cell_type": "code",
   "execution_count": 7,
   "metadata": {},
   "outputs": [],
   "source": [
    "class Model(nn.Module):\n",
    "    def __init__(self, in_features=6, h1=8, h2=9, out_features=2):\n",
    "        super().__init__()\n",
    "        self.fc1 = nn.Linear(in_features,h1)\n",
    "        self.fc2 = nn.Linear(h1, h2)\n",
    "        self.out = nn.Linear(h2, out_features)\n",
    "        \n",
    "    def forward(self, x):\n",
    "        x = F.relu(self.fc1(x))\n",
    "        x = F.relu(self.fc2(x))\n",
    "        x = self.out(x)\n",
    "        return x"
   ]
  },
  {
   "cell_type": "code",
   "execution_count": 8,
   "metadata": {},
   "outputs": [],
   "source": [
    "torch.manual_seed(11)\n",
    "model = Model()"
   ]
  },
  {
   "cell_type": "code",
   "execution_count": 9,
   "metadata": {},
   "outputs": [],
   "source": [
    "criterion = nn.MSELoss()\n",
    "optimizer = torch.optim.Adam(model.parameters(), lr=0.02)"
   ]
  },
  {
   "cell_type": "code",
   "execution_count": 10,
   "metadata": {},
   "outputs": [
    {
     "name": "stdout",
     "output_type": "stream",
     "text": [
      "epoch: 100  loss: 12.29694939\n",
      "epoch: 200  loss: 3.83538580\n",
      "epoch: 300  loss: 2.43247151\n",
      "epoch: 400  loss: 2.26217103\n",
      "epoch: 500  loss: 2.11885357\n",
      "epoch: 600  loss: 1.97141516\n",
      "epoch: 700  loss: 1.82005560\n",
      "epoch: 800  loss: 1.66778839\n",
      "epoch: 900  loss: 1.51914966\n",
      "epoch: 1000  loss: 1.38278794\n"
     ]
    }
   ],
   "source": [
    "epochs = 1000\n",
    "losses = []\n",
    "\n",
    "for i in range(epochs):\n",
    "    i += 1\n",
    "    y_pred = model(X_train)\n",
    "    loss = criterion(y_pred, y_train)\n",
    "    losses.append(loss)\n",
    "    \n",
    "    # a neat trick to save screen space:\n",
    "    if i%100 == 0:\n",
    "        print(f'epoch: {i:3}  loss: {loss.item():10.8f}')\n",
    "\n",
    "    optimizer.zero_grad()\n",
    "    loss.backward()\n",
    "    optimizer.step()"
   ]
  },
  {
   "cell_type": "code",
   "execution_count": 11,
   "metadata": {},
   "outputs": [
    {
     "data": {
      "image/png": "[encoded data removed]",
      "text/plain": [
       "<Figure size 432x288 with 1 Axes>"
      ]
     },
     "metadata": {
      "needs_background": "light"
     },
     "output_type": "display_data"
    }
   ],
   "source": [
    "plt.plot(range(epochs), losses)\n",
    "plt.ylabel('Loss', fontsize=14)\n",
    "plt.xlabel('epoch', fontsize=14)\n",
    "plt.xticks(fontsize=12)\n",
    "plt.yticks(fontsize=12)\n",
    "plt.show()"
   ]
  },
  {
   "cell_type": "code",
   "execution_count": 12,
   "metadata": {},
   "outputs": [
    {
     "name": "stdout",
     "output_type": "stream",
     "text": [
      "1.13089120\n"
     ]
    }
   ],
   "source": [
    "with torch.no_grad():\n",
    "    y_val = model(X_test)\n",
    "    loss = criterion(y_val, y_test)\n",
    "print(f'{loss:.8f}')"
   ]
  },
  {
   "cell_type": "code",
   "execution_count": 13,
   "metadata": {},
   "outputs": [
    {
     "data": {
      "image/png": "[encoded data removed]",
      "text/plain": [
       "<Figure size 864x432 with 2 Axes>"
      ]
     },
     "metadata": {
      "needs_background": "light"
     },
     "output_type": "display_data"
    }
   ],
   "source": [
    "plt.subplots(1, 2, figsize=(12, 6))\n",
    "\n",
    "plt.subplot(1, 2, 1)\n",
    "plt.title(\"Strength\", fontsize=16)\n",
    "plt.plot([10, 45], [10, 45], c='red')\n",
    "plt.scatter(y_test[:,0], y_val[:,0])\n",
    "plt.xlim((10, 45))\n",
    "plt.ylim((10, 45))\n",
    "plt.xlabel('True strength', fontsize=14)\n",
    "plt.ylabel('Predicted strength', fontsize=14)\n",
    "plt.xticks(fontsize=12)\n",
    "plt.yticks(fontsize=12)\n",
    "\n",
    "plt.subplot(1, 2, 2)\n",
    "plt.title(\"Switching ratio\", fontsize=16)\n",
    "plt.plot([0.9, 1.2], [0.9, 1.2], c='red')\n",
    "plt.scatter(y_test[:,1], y_val[:,1])\n",
    "plt.xlim((0.9, 1.2))\n",
    "plt.ylim((0.9, 1.2))\n",
    "plt.xlabel('True switching ratio', fontsize=14)\n",
    "plt.ylabel('Predicted switching ratio', fontsize=14)\n",
    "plt.xticks(fontsize=12)\n",
    "plt.yticks(fontsize=12)\n",
    "\n",
    "plt.show()"
   ]
  },
  {
   "cell_type": "markdown",
   "metadata": {},
   "source": [
    "### Test with examples"
   ]
  },
  {
   "cell_type": "code",
   "execution_count": 14,
   "metadata": {},
   "outputs": [
    {
     "name": "stdout",
     "output_type": "stream",
     "text": [
      "Predicted performances: tensor([34.2655,  1.0313])\n",
      "Ground truth: tensor([35.8119,  1.0765])\n"
     ]
    }
   ],
   "source": [
    "index_of_choice = 17\n",
    "with torch.no_grad():\n",
    "    y_pred = model(X_test[index_of_choice])\n",
    "print(f'Predicted performances: {y_pred}')\n",
    "print(f'Ground truth: {y_test[index_of_choice]}')"
   ]
  },
  {
   "cell_type": "code",
   "execution_count": null,
   "metadata": {},
   "outputs": [],
   "source": []
  }
 ],
 "metadata": {
  "kernelspec": {
   "display_name": "Python 3",
   "language": "python",
   "name": "python3"
  },
  "language_info": {
   "codemirror_mode": {
    "name": "ipython",
    "version": 3
   },
   "file_extension": ".py",
   "mimetype": "text/x-python",
   "name": "python",
   "nbconvert_exporter": "python",
   "pygments_lexer": "ipython3",
   "version": "3.7.4"
  }
 },
 "nbformat": 4,
 "nbformat_minor": 2
}
