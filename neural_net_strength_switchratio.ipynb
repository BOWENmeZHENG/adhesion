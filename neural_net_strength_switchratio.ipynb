{
 "cells": [
  {
   "cell_type": "code",
   "execution_count": 1,
   "metadata": {},
   "outputs": [],
   "source": [
    "import pandas as pd\n",
    "import numpy as np\n",
    "import matplotlib.pyplot as plt\n",
    "import torch\n",
    "import torch.nn as nn\n",
    "import torch.nn.functional as F\n",
    "from sklearn.model_selection import train_test_split\n",
    "from sklearn.preprocessing import MinMaxScaler"
   ]
  },
  {
   "cell_type": "markdown",
   "metadata": {},
   "source": [
    "### Load data"
   ]
  },
  {
   "cell_type": "code",
   "execution_count": 2,
   "metadata": {},
   "outputs": [],
   "source": [
    "filename = 'data_5kpa_cleaned_01052022.csv'\n",
    "df = pd.read_csv(filename)\n",
    "df.drop(['Unnamed: 0', 'WIDTH_sub', 'HEIGHT_sub', 'mem_layer'], axis=1, inplace=True)\n",
    "df_var = df[['WIDTH_mem', 'THICKNESS_mem', 'WIDTH_device', 'HEIGHT_chamber', 'HEIGHT_device', 'Stalk_angle']]\n",
    "df_perf = df[['strength', 'switching_ratio']]"
   ]
  },
  {
   "cell_type": "code",
   "execution_count": 3,
   "metadata": {},
   "outputs": [
    {
     "data": {
      "text/html": [
       "<div>\n",
       "<style scoped>\n",
       "    .dataframe tbody tr th:only-of-type {\n",
       "        vertical-align: middle;\n",
       "    }\n",
       "\n",
       "    .dataframe tbody tr th {\n",
       "        vertical-align: top;\n",
       "    }\n",
       "\n",
       "    .dataframe thead th {\n",
       "        text-align: right;\n",
       "    }\n",
       "</style>\n",
       "<table border=\"1\" class=\"dataframe\">\n",
       "  <thead>\n",
       "    <tr style=\"text-align: right;\">\n",
       "      <th></th>\n",
       "      <th>WIDTH_mem</th>\n",
       "      <th>THICKNESS_mem</th>\n",
       "      <th>WIDTH_device</th>\n",
       "      <th>HEIGHT_chamber</th>\n",
       "      <th>HEIGHT_device</th>\n",
       "      <th>Stalk_angle</th>\n",
       "    </tr>\n",
       "  </thead>\n",
       "  <tbody>\n",
       "    <tr>\n",
       "      <th>count</th>\n",
       "      <td>219.000000</td>\n",
       "      <td>219.000000</td>\n",
       "      <td>219.000000</td>\n",
       "      <td>219.000000</td>\n",
       "      <td>219.000000</td>\n",
       "      <td>219.000000</td>\n",
       "    </tr>\n",
       "    <tr>\n",
       "      <th>mean</th>\n",
       "      <td>5.785132</td>\n",
       "      <td>1.412063</td>\n",
       "      <td>16.213745</td>\n",
       "      <td>5.839741</td>\n",
       "      <td>12.936342</td>\n",
       "      <td>-5.029767</td>\n",
       "    </tr>\n",
       "    <tr>\n",
       "      <th>std</th>\n",
       "      <td>2.496292</td>\n",
       "      <td>0.867429</td>\n",
       "      <td>2.551493</td>\n",
       "      <td>2.241719</td>\n",
       "      <td>1.165877</td>\n",
       "      <td>26.529679</td>\n",
       "    </tr>\n",
       "    <tr>\n",
       "      <th>min</th>\n",
       "      <td>0.540511</td>\n",
       "      <td>0.020692</td>\n",
       "      <td>11.052382</td>\n",
       "      <td>2.043913</td>\n",
       "      <td>11.003874</td>\n",
       "      <td>-48.681563</td>\n",
       "    </tr>\n",
       "    <tr>\n",
       "      <th>25%</th>\n",
       "      <td>3.960524</td>\n",
       "      <td>0.669738</td>\n",
       "      <td>14.178523</td>\n",
       "      <td>3.955360</td>\n",
       "      <td>11.932030</td>\n",
       "      <td>-27.079273</td>\n",
       "    </tr>\n",
       "    <tr>\n",
       "      <th>50%</th>\n",
       "      <td>5.859814</td>\n",
       "      <td>1.303979</td>\n",
       "      <td>16.687693</td>\n",
       "      <td>5.963992</td>\n",
       "      <td>12.866733</td>\n",
       "      <td>-6.786115</td>\n",
       "    </tr>\n",
       "    <tr>\n",
       "      <th>75%</th>\n",
       "      <td>7.950794</td>\n",
       "      <td>2.174962</td>\n",
       "      <td>18.519920</td>\n",
       "      <td>7.633277</td>\n",
       "      <td>13.935073</td>\n",
       "      <td>17.387714</td>\n",
       "    </tr>\n",
       "    <tr>\n",
       "      <th>max</th>\n",
       "      <td>9.950407</td>\n",
       "      <td>2.969392</td>\n",
       "      <td>19.996383</td>\n",
       "      <td>9.886087</td>\n",
       "      <td>14.996049</td>\n",
       "      <td>49.910802</td>\n",
       "    </tr>\n",
       "  </tbody>\n",
       "</table>\n",
       "</div>"
      ],
      "text/plain": [
       "        WIDTH_mem  THICKNESS_mem  WIDTH_device  HEIGHT_chamber  HEIGHT_device  \\\n",
       "count  219.000000     219.000000    219.000000      219.000000     219.000000   \n",
       "mean     5.785132       1.412063     16.213745        5.839741      12.936342   \n",
       "std      2.496292       0.867429      2.551493        2.241719       1.165877   \n",
       "min      0.540511       0.020692     11.052382        2.043913      11.003874   \n",
       "25%      3.960524       0.669738     14.178523        3.955360      11.932030   \n",
       "50%      5.859814       1.303979     16.687693        5.963992      12.866733   \n",
       "75%      7.950794       2.174962     18.519920        7.633277      13.935073   \n",
       "max      9.950407       2.969392     19.996383        9.886087      14.996049   \n",
       "\n",
       "       Stalk_angle  \n",
       "count   219.000000  \n",
       "mean     -5.029767  \n",
       "std      26.529679  \n",
       "min     -48.681563  \n",
       "25%     -27.079273  \n",
       "50%      -6.786115  \n",
       "75%      17.387714  \n",
       "max      49.910802  "
      ]
     },
     "execution_count": 3,
     "metadata": {},
     "output_type": "execute_result"
    }
   ],
   "source": [
    "df_var.describe()"
   ]
  },
  {
   "cell_type": "code",
   "execution_count": 4,
   "metadata": {},
   "outputs": [
    {
     "data": {
      "text/html": [
       "<div>\n",
       "<style scoped>\n",
       "    .dataframe tbody tr th:only-of-type {\n",
       "        vertical-align: middle;\n",
       "    }\n",
       "\n",
       "    .dataframe tbody tr th {\n",
       "        vertical-align: top;\n",
       "    }\n",
       "\n",
       "    .dataframe thead th {\n",
       "        text-align: right;\n",
       "    }\n",
       "</style>\n",
       "<table border=\"1\" class=\"dataframe\">\n",
       "  <thead>\n",
       "    <tr style=\"text-align: right;\">\n",
       "      <th></th>\n",
       "      <th>strength</th>\n",
       "      <th>switching_ratio</th>\n",
       "    </tr>\n",
       "  </thead>\n",
       "  <tbody>\n",
       "    <tr>\n",
       "      <th>count</th>\n",
       "      <td>219.000000</td>\n",
       "      <td>219.000000</td>\n",
       "    </tr>\n",
       "    <tr>\n",
       "      <th>mean</th>\n",
       "      <td>27.669405</td>\n",
       "      <td>1.026407</td>\n",
       "    </tr>\n",
       "    <tr>\n",
       "      <th>std</th>\n",
       "      <td>8.067495</td>\n",
       "      <td>0.071840</td>\n",
       "    </tr>\n",
       "    <tr>\n",
       "      <th>min</th>\n",
       "      <td>10.118589</td>\n",
       "      <td>0.862062</td>\n",
       "    </tr>\n",
       "    <tr>\n",
       "      <th>25%</th>\n",
       "      <td>21.533658</td>\n",
       "      <td>0.990894</td>\n",
       "    </tr>\n",
       "    <tr>\n",
       "      <th>50%</th>\n",
       "      <td>28.216610</td>\n",
       "      <td>0.999957</td>\n",
       "    </tr>\n",
       "    <tr>\n",
       "      <th>75%</th>\n",
       "      <td>34.110205</td>\n",
       "      <td>1.050597</td>\n",
       "    </tr>\n",
       "    <tr>\n",
       "      <th>max</th>\n",
       "      <td>41.716770</td>\n",
       "      <td>1.476956</td>\n",
       "    </tr>\n",
       "  </tbody>\n",
       "</table>\n",
       "</div>"
      ],
      "text/plain": [
       "         strength  switching_ratio\n",
       "count  219.000000       219.000000\n",
       "mean    27.669405         1.026407\n",
       "std      8.067495         0.071840\n",
       "min     10.118589         0.862062\n",
       "25%     21.533658         0.990894\n",
       "50%     28.216610         0.999957\n",
       "75%     34.110205         1.050597\n",
       "max     41.716770         1.476956"
      ]
     },
     "execution_count": 4,
     "metadata": {},
     "output_type": "execute_result"
    }
   ],
   "source": [
    "df_perf.describe()"
   ]
  },
  {
   "cell_type": "markdown",
   "metadata": {},
   "source": [
    "### Neural network ML"
   ]
  },
  {
   "cell_type": "code",
   "execution_count": 5,
   "metadata": {},
   "outputs": [],
   "source": [
    "train_X, test_X, train_y, test_y = train_test_split(df_var.values, df_perf.values, \n",
    "                                                    test_size=0.2, random_state=33)"
   ]
  },
  {
   "cell_type": "code",
   "execution_count": 6,
   "metadata": {},
   "outputs": [],
   "source": [
    "X_train = torch.FloatTensor(train_X)\n",
    "X_test = torch.FloatTensor(test_X)\n",
    "y_train = torch.FloatTensor(train_y)\n",
    "y_test = torch.FloatTensor(test_y)"
   ]
  },
  {
   "cell_type": "code",
   "execution_count": 7,
   "metadata": {},
   "outputs": [],
   "source": [
    "class Model(nn.Module):\n",
    "    def __init__(self, in_features=6, h1=8, h2=9, out_features=2):\n",
    "        super().__init__()\n",
    "        self.fc1 = nn.Linear(in_features,h1)\n",
    "        self.fc2 = nn.Linear(h1, h2)\n",
    "        self.out = nn.Linear(h2, out_features)\n",
    "        \n",
    "    def forward(self, x):\n",
    "        x = F.relu(self.fc1(x))\n",
    "        x = F.relu(self.fc2(x))\n",
    "        x = self.out(x)\n",
    "        return x"
   ]
  },
  {
   "cell_type": "code",
   "execution_count": 8,
   "metadata": {},
   "outputs": [],
   "source": [
    "torch.manual_seed(11)\n",
    "model = Model()"
   ]
  },
  {
   "cell_type": "code",
   "execution_count": 9,
   "metadata": {},
   "outputs": [],
   "source": [
    "criterion = nn.MSELoss()\n",
    "optimizer = torch.optim.Adam(model.parameters(), lr=0.01)"
   ]
  },
  {
   "cell_type": "code",
   "execution_count": 10,
   "metadata": {},
   "outputs": [
    {
     "name": "stdout",
     "output_type": "stream",
     "text": [
      "epoch: 100  loss: 17.96458435\n",
      "epoch: 200  loss: 8.60150814\n",
      "epoch: 300  loss: 4.06666040\n",
      "epoch: 400  loss: 2.67229724\n",
      "epoch: 500  loss: 2.37361884\n",
      "epoch: 600  loss: 2.26876402\n",
      "epoch: 700  loss: 2.17214894\n",
      "epoch: 800  loss: 2.07331014\n",
      "epoch: 900  loss: 1.97114396\n",
      "epoch: 1000  loss: 1.86579549\n"
     ]
    }
   ],
   "source": [
    "epochs = 1000\n",
    "losses = []\n",
    "\n",
    "for i in range(epochs):\n",
    "    i += 1\n",
    "    y_pred = model(X_train)\n",
    "    loss = criterion(y_pred, y_train)\n",
    "    losses.append(loss)\n",
    "    \n",
    "    # a neat trick to save screen space:\n",
    "    if i%100 == 0:\n",
    "        print(f'epoch: {i:3}  loss: {loss.item():10.8f}')\n",
    "\n",
    "    optimizer.zero_grad()\n",
    "    loss.backward()\n",
    "    optimizer.step()"
   ]
  },
  {
   "cell_type": "code",
   "execution_count": 19,
   "metadata": {},
   "outputs": [
    {
     "data": {
      "image/png": "[encoded data removed]",
      "text/plain": [
       "<Figure size 576x432 with 1 Axes>"
      ]
     },
     "metadata": {
      "needs_background": "light"
     },
     "output_type": "display_data"
    }
   ],
   "source": [
    "plt.figure(figsize=(8, 6))\n",
    "plt.plot(range(epochs), losses)\n",
    "plt.ylabel('Loss', fontsize=16)\n",
    "plt.xlabel('epoch', fontsize=16)\n",
    "plt.xticks(fontsize=14)\n",
    "plt.yticks(fontsize=14)\n",
    "plt.show()"
   ]
  },
  {
   "cell_type": "code",
   "execution_count": 12,
   "metadata": {},
   "outputs": [
    {
     "name": "stdout",
     "output_type": "stream",
     "text": [
      "1.35579693\n"
     ]
    }
   ],
   "source": [
    "with torch.no_grad():\n",
    "    y_val = model(X_test)\n",
    "    loss = criterion(y_val, y_test)\n",
    "print(f'{loss:.8f}')"
   ]
  },
  {
   "cell_type": "code",
   "execution_count": 13,
   "metadata": {},
   "outputs": [
    {
     "data": {
      "image/png": "[encoded data removed]",
      "text/plain": [
       "<Figure size 864x432 with 2 Axes>"
      ]
     },
     "metadata": {
      "needs_background": "light"
     },
     "output_type": "display_data"
    }
   ],
   "source": [
    "plt.subplots(1, 2, figsize=(12, 6))\n",
    "\n",
    "plt.subplot(1, 2, 1)\n",
    "plt.title(\"Strength\", fontsize=16)\n",
    "plt.plot([10, 45], [10, 45], c='red')\n",
    "plt.scatter(y_test[:,0], y_val[:,0])\n",
    "plt.xlim((10, 45))\n",
    "plt.ylim((10, 45))\n",
    "plt.xlabel('True strength', fontsize=14)\n",
    "plt.ylabel('Predicted strength', fontsize=14)\n",
    "plt.xticks(fontsize=12)\n",
    "plt.yticks(fontsize=12)\n",
    "\n",
    "plt.subplot(1, 2, 2)\n",
    "plt.title(\"Switching ratio\", fontsize=16)\n",
    "plt.plot([0.9, 1.2], [0.9, 1.2], c='red')\n",
    "plt.scatter(y_test[:,1], y_val[:,1])\n",
    "plt.xlim((0.9, 1.2))\n",
    "plt.ylim((0.9, 1.2))\n",
    "plt.xlabel('True switching ratio', fontsize=14)\n",
    "plt.ylabel('Predicted switching ratio', fontsize=14)\n",
    "plt.xticks(fontsize=12)\n",
    "plt.yticks(fontsize=12)\n",
    "\n",
    "plt.show()"
   ]
  },
  {
   "cell_type": "markdown",
   "metadata": {},
   "source": [
    "### Test with examples"
   ]
  },
  {
   "cell_type": "code",
   "execution_count": 18,
   "metadata": {},
   "outputs": [
    {
     "name": "stdout",
     "output_type": "stream",
     "text": [
      "Predicted performances: tensor([34.1750,  1.0846])\n",
      "Ground truth: tensor([35.8119,  1.0765])\n"
     ]
    }
   ],
   "source": [
    "index_of_choice = 17\n",
    "with torch.no_grad():\n",
    "    y_pred = model(X_test[index_of_choice])\n",
    "print(f'Predicted performances: {y_pred}')\n",
    "print(f'Ground truth: {y_test[index_of_choice]}')"
   ]
  },
  {
   "cell_type": "code",
   "execution_count": null,
   "metadata": {},
   "outputs": [],
   "source": []
  }
 ],
 "metadata": {
  "kernelspec": {
   "display_name": "Python 3",
   "language": "python",
   "name": "python3"
  },
  "language_info": {
   "codemirror_mode": {
    "name": "ipython",
    "version": 3
   },
   "file_extension": ".py",
   "mimetype": "text/x-python",
   "name": "python",
   "nbconvert_exporter": "python",
   "pygments_lexer": "ipython3",
   "version": "3.7.4"
  }
 },
 "nbformat": 4,
 "nbformat_minor": 2
}
